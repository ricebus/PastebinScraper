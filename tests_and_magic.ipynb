{
 "cells": [
  {
   "cell_type": "code",
   "execution_count": 1,
   "metadata": {},
   "outputs": [],
   "source": [
    "import requests\n",
    "from bs4 import BeautifulSoup as bs"
   ]
  },
  {
   "cell_type": "code",
   "execution_count": 2,
   "metadata": {},
   "outputs": [],
   "source": [
    "base_url = \"https://pastebin.com\" \n",
    "card_header = {\n",
    "    \"User-Agent\": \"Mozilla/5.0 (Windows NT 10.0; Win64; x64) AppleWebKit/537.36 (KHTML, like Gecko) Chrome/81.0.4044.113 Safari/537.36\",\n",
    "    \"Sec-Fetch-Mode\": \"navigate\",\n",
    "    \"Sec-Fetch-Site\": \"none\",\n",
    "    \"Sec-Fetch-Dest\": \"document\",\n",
    "    \"Sec-Fetch-User\": \"?1\",\n",
    "    \"Upgrade-Insecure-Requests\": \"1\",\n",
    "    \"DNT\": \"1\",\n",
    "    \"Cache-Control\": \"max-age=0\"\n",
    "}\n",
    "\n",
    "headers = requests.utils.default_headers()\n",
    "\n",
    "s = requests.session()  # session\n",
    "#s.headers.update(headers)\n",
    "s.headers.update(card_header)\n",
    "s.max_redirects = 3"
   ]
  },
  {
   "cell_type": "code",
   "execution_count": 3,
   "metadata": {},
   "outputs": [
    {
     "name": "stdout",
     "output_type": "stream",
     "text": [
      "/BQHEe10n\n",
      "/sQxYTnH4\n",
      "/XwGU6JwR\n",
      "/JxaxDkNZ\n",
      "/5WexV6U8\n",
      "/VhL5q4na\n",
      "/Ps9SR5HK\n"
     ]
    }
   ],
   "source": [
    "html = s.get(base_url)\n",
    "soup = bs(html.text, 'html.parser')\n",
    "paste_list = soup.find_all(\"ul\", \"right_menu\")[0]\n",
    "li_tags_list = paste_list.li\n",
    "for li in li_tags_list.next_siblings:\n",
    "    print(li.a.get(\"href\"))"
   ]
  },
  {
   "cell_type": "code",
   "execution_count": 11,
   "metadata": {},
   "outputs": [],
   "source": [
    "link = \"/ENUddtqA\"\n",
    "html = s.get(base_url + link)\n",
    "soup = bs(html.text, 'html.parser')\n",
    "removed = True if soup.find_all(\"div\",\"content_title\")[0].text.find(\"removed\") != -1 else False\n",
    "if not removed:\n",
    "    info_box = soup.find_all(\"div\", \"paste_box_info\")[0]\n",
    "    info_line = info_box.find_all(\"div\", \"paste_box_line2\")[0]\n",
    "    paste_box = soup.find_all(\"div\", \"textarea_border\")[0]\n",
    "    title = info_box.find_all(\"div\", \"paste_box_line1\")[0].text\n",
    "    date = info_line.span.get(\"title\")\n",
    "    content = paste_box.textarea.text\n",
    "    author = info_line.a.text \\\n",
    "        if info_line.text.lower().find(\"guest\") == -1 \\\n",
    "        else \"guest\"\n"
   ]
  },
  {
   "cell_type": "code",
   "execution_count": null,
   "metadata": {},
   "outputs": [],
   "source": [
    "info_line"
   ]
  },
  {
   "cell_type": "code",
   "execution_count": 12,
   "metadata": {},
   "outputs": [],
   "source": [
    "from scraper import Scraper\n",
    "scraper = Scraper()\n",
    "html = s.get(\"https://pastebin.com/sQxYTnH4\")\n",
    "paste = scraper.parse_paste_page(html.text)"
   ]
  },
  {
   "cell_type": "code",
   "execution_count": 13,
   "metadata": {},
   "outputs": [
    {
     "data": {
      "text/plain": [
       "<paste.Paste at 0x2c7fa3bdd88>"
      ]
     },
     "execution_count": 13,
     "metadata": {},
     "output_type": "execute_result"
    }
   ],
   "source": [
    "paste"
   ]
  },
  {
   "cell_type": "code",
   "execution_count": 14,
   "metadata": {},
   "outputs": [
    {
     "data": {
      "text/plain": [
       "'{\"author\": \"ukarissay\", \"title\": \"SSH.yml\", \"date\": \"2020-04-25 08:43:28 +00:00\", \"content\": \"ilwtcu:\\\\n  user: ilwtcu\\\\n  pass: hgsaatro\\\\n  ip:   93.119.104.203\\\\n  protocol: SSH\\\\nkqkow:\\\\n  user: kqkow\\\\n  pass: jydcptobaa\\\\n  ip:   93.119.104.203\\\\n  protocol: SSH\"}'"
      ]
     },
     "execution_count": 14,
     "metadata": {},
     "output_type": "execute_result"
    }
   ],
   "source": [
    "import json\n",
    "from paste import Paste, PasteEncoder\n",
    "    \n",
    "json.dumps(paste, cls=PasteEncoder)"
   ]
  },
  {
   "cell_type": "code",
   "execution_count": null,
   "metadata": {},
   "outputs": [],
   "source": []
  }
 ],
 "metadata": {
  "kernelspec": {
   "display_name": "Python 3",
   "language": "python",
   "name": "python3"
  },
  "language_info": {
   "codemirror_mode": {
    "name": "ipython",
    "version": 3
   },
   "file_extension": ".py",
   "mimetype": "text/x-python",
   "name": "python",
   "nbconvert_exporter": "python",
   "pygments_lexer": "ipython3",
   "version": "3.7.4"
  }
 },
 "nbformat": 4,
 "nbformat_minor": 2
}
