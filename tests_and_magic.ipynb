{
 "cells": [
  {
   "cell_type": "code",
   "execution_count": 1,
   "metadata": {},
   "outputs": [],
   "source": [
    "import requests\n",
    "from bs4 import BeautifulSoup as bs"
   ]
  },
  {
   "cell_type": "code",
   "execution_count": 2,
   "metadata": {},
   "outputs": [],
   "source": [
    "base_url = \"https://pastebin.com\" \n",
    "card_header = {\n",
    "    \"User-Agent\": \"Mozilla/5.0 (Windows NT 10.0; Win64; x64) AppleWebKit/537.36 (KHTML, like Gecko) Chrome/81.0.4044.113 Safari/537.36\",\n",
    "    \"Sec-Fetch-Mode\": \"navigate\",\n",
    "    \"Sec-Fetch-Site\": \"none\",\n",
    "    \"Sec-Fetch-Dest\": \"document\",\n",
    "    \"Sec-Fetch-User\": \"?1\",\n",
    "    \"Upgrade-Insecure-Requests\": \"1\",\n",
    "    \"DNT\": \"1\",\n",
    "    \"Cache-Control\": \"max-age=0\"\n",
    "}\n",
    "\n",
    "headers = requests.utils.default_headers()\n",
    "\n",
    "s = requests.session()  # session\n",
    "#s.headers.update(headers)\n",
    "s.headers.update(card_header)\n",
    "s.max_redirects = 3"
   ]
  },
  {
   "cell_type": "code",
   "execution_count": 3,
   "metadata": {},
   "outputs": [
    {
     "name": "stdout",
     "output_type": "stream",
     "text": [
      "/axmG8CJ0\n",
      "/CvdxrVwr\n",
      "/KENEsanR\n",
      "/SUKHckQq\n",
      "/fy9d4DJs\n",
      "/TAsyuPUh\n",
      "/QvpJpZUv\n"
     ]
    }
   ],
   "source": [
    "html = s.get(base_url)\n",
    "soup = bs(html.text, 'html.parser')\n",
    "paste_list = soup.find_all(\"ul\", \"right_menu\")[0]\n",
    "li_tags_list = paste_list.li\n",
    "for li in li_tags_list.next_siblings:\n",
    "    print(li.a.get(\"href\"))"
   ]
  },
  {
   "cell_type": "code",
   "execution_count": 23,
   "metadata": {},
   "outputs": [],
   "source": [
    "link = \"/X21hFx99\"\n",
    "html = s.get(base_url + link)\n",
    "soup = bs(html.text, 'html.parser')\n",
    "info_box = soup.find_all(\"div\", \"paste_box_info\")[0]\n",
    "title = info_box.find_all(\"div\", \"paste_box_line1\")[0].text\n",
    "info_line = info_box.find_all(\"div\", \"paste_box_line2\")[0]\n",
    "username = info_line.a.text\n",
    "date = info_line.span.get(\"title\")\n",
    "import arrow\n",
    "date_parsed = arrow.get(date,\"Do of MMMM YYYY hh:mm:ss A\")# ZZZ\") TODO: Fix timezone. CDT is too ambiguous\n",
    "paste_box = soup.find_all(\"div\", \"textarea_border\")[0]\n",
    "content = paste_box.textarea.text\n"
   ]
  },
  {
   "cell_type": "code",
   "execution_count": null,
   "metadata": {},
   "outputs": [],
   "source": []
  }
 ],
 "metadata": {
  "kernelspec": {
   "display_name": "Python 3",
   "language": "python",
   "name": "python3"
  },
  "language_info": {
   "codemirror_mode": {
    "name": "ipython",
    "version": 3
   },
   "file_extension": ".py",
   "mimetype": "text/x-python",
   "name": "python",
   "nbconvert_exporter": "python",
   "pygments_lexer": "ipython3",
   "version": "3.7.4"
  }
 },
 "nbformat": 4,
 "nbformat_minor": 2
}
